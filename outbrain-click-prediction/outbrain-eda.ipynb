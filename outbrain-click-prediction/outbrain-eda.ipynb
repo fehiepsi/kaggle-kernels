{
 "cells": [
  {
   "cell_type": "markdown",
   "metadata": {
    "_cell_guid": "b81d4eec-8375-2a6a-9a99-ba60480354dd"
   },
   "source": [
    "### *Use this one simple trick to get to the top of the leaderboard - Grandmasters hate him!*\n",
    "\n",
    "Here's quite a high-level EDA - since the data is so huge, we want to get a better understanding of what we actually have.\n",
    "\n",
    "If this EDA helps you, make sure to leave an upvote to motivate me to make more! :)\n",
    "\n",
    "First off: What files do we have?"
   ]
  },
  {
   "cell_type": "code",
   "execution_count": 1,
   "metadata": {
    "_cell_guid": "afc556c1-42ab-466b-e56a-d12ff2546681",
    "collapsed": false
   },
   "outputs": [
    {
     "name": "stdout",
     "output_type": "stream",
     "text": [
      "# File sizes\n",
      "page_views_sample.csv         454.35MB\n",
      "documents_meta.csv            89.38MB\n",
      "documents_categories.csv      118.02MB\n",
      "events.csv                    1208.55MB\n",
      "clicks_test.csv               506.95MB\n",
      "promoted_content.csv          13.89MB\n",
      "documents_topics.csv          339.47MB\n",
      "documents_entities.csv        324.1MB\n",
      "sample_submission.csv         273.14MB\n",
      "clicks_train.csv              1486.73MB\n"
     ]
    }
   ],
   "source": [
    "import numpy as np # linear algebra\n",
    "import pandas as pd # data processing, CSV file I/O (e.g. pd.read_csv)\n",
    "import os\n",
    "import gc # We're gonna be clearing memory a lot\n",
    "import matplotlib.pyplot as plt\n",
    "import seaborn as sns\n",
    "%matplotlib inline\n",
    "\n",
    "p = sns.color_palette()\n",
    "\n",
    "print('# File sizes')\n",
    "for f in os.listdir('data'):\n",
    "    if 'zip' not in f:\n",
    "        print(f.ljust(30) + str(round(os.path.getsize('data/' + f) / 1000000, 2)) + 'MB')"
   ]
  },
  {
   "cell_type": "markdown",
   "metadata": {
    "_cell_guid": "817adf24-04e9-66c5-d125-47cce86462aa"
   },
   "source": [
    "Wow, that's a lot of data! Let's start off by looking at the clicks_train.csv and clicks_test.csv files, as these contain the main things we need.\n",
    "\n",
    "Each display has a certain number of adverts. Let's look at the distribution of these advert counts, and see if they are consistent between train and test."
   ]
  },
  {
   "cell_type": "code",
   "execution_count": 2,
   "metadata": {
    "_cell_guid": "35ec6f17-362f-6da9-877b-17ac05db3d67",
    "collapsed": true
   },
   "outputs": [],
   "source": [
    "df_train = pd.read_csv('data/clicks_train.csv')\n",
    "df_test = pd.read_csv('data/clicks_test.csv')"
   ]
  },
  {
   "cell_type": "code",
   "execution_count": 3,
   "metadata": {
    "_cell_guid": "dfde6d85-3bf5-1220-a7b3-16bce8c2de22",
    "collapsed": false
   },
   "outputs": [
    {
     "data": {
      "text/plain": [
       "<matplotlib.text.Text at 0x7fc156ded8d0>"
      ]
     },
     "execution_count": 3,
     "metadata": {},
     "output_type": "execute_result"
    },
    {
     "data": {
      "image/png": "[encoded data removed]",
      "text/plain": [
       "<matplotlib.figure.Figure at 0x7fc1565bf400>"
      ]
     },
     "metadata": {},
     "output_type": "display_data"
    }
   ],
   "source": [
    "sizes_train = df_train.groupby('display_id')['ad_id'].count().value_counts()\n",
    "sizes_test = df_test.groupby('display_id')['ad_id'].count().value_counts()\n",
    "sizes_train = sizes_train / np.sum(sizes_train)\n",
    "sizes_test = sizes_test / np.sum(sizes_test)\n",
    "\n",
    "plt.figure(figsize=(12,4))\n",
    "sns.barplot(sizes_train.index, sizes_train.values, alpha=0.8, color=p[0], label='train')\n",
    "sns.barplot(sizes_test.index, sizes_test.values, alpha=0.6, color=p[1], label='test')\n",
    "plt.legend()\n",
    "plt.xlabel('Number of Ads in display', fontsize=12)\n",
    "plt.ylabel('Proportion of set', fontsize=12)"
   ]
  },
  {
   "cell_type": "markdown",
   "metadata": {
    "_cell_guid": "e72ae2a7-7df4-681f-623c-a602640aa862"
   },
   "source": [
    "This looks like a perfect split to me! So we can assume the distribution to be the same within the sets - no weird trickery going on here.\n",
    "\n",
    "What about adverts? How many adverts are there that are very often used, and how many are rare?"
   ]
  },
  {
   "cell_type": "code",
   "execution_count": 4,
   "metadata": {
    "_cell_guid": "084fed1a-30d1-8aba-5c60-0413ecf01654",
    "collapsed": false
   },
   "outputs": [
    {
     "name": "stdout",
     "output_type": "stream",
     "text": [
      "Ads that appear less than 2 times: 22.69%\n",
      "Ads that appear less than 10 times: 61.74%\n",
      "Ads that appear less than 50 times: 86.93%\n",
      "Ads that appear less than 100 times: 91.04%\n",
      "Ads that appear less than 1000 times: 97.45%\n"
     ]
    },
    {
     "data": {
      "image/png": "[encoded data removed]",
      "text/plain": [
       "<matplotlib.figure.Figure at 0x7fc1565accc0>"
      ]
     },
     "metadata": {},
     "output_type": "display_data"
    }
   ],
   "source": [
    "ad_usage_train = df_train.groupby('ad_id')['ad_id'].count()\n",
    "\n",
    "for i in [2, 10, 50, 100, 1000]:\n",
    "    print('Ads that appear less than {} times: {}%'.format(i, round((ad_usage_train < i).mean() * 100, 2)))\n",
    "\n",
    "plt.figure(figsize=(12, 6))\n",
    "plt.hist(ad_usage_train.values, bins=50, log=True)\n",
    "plt.xlabel('Number of times ad appeared', fontsize=12)\n",
    "plt.ylabel('log(Count of displays with ad)', fontsize=12)\n",
    "plt.show()"
   ]
  },
  {
   "cell_type": "markdown",
   "metadata": {
    "_cell_guid": "2ac4310e-082f-0622-aace-76e21078c911"
   },
   "source": [
    "Here we can see that a **huge** number of ads appear just a few times in the training set (so much that we have to use a log graph to show it), with two-thirds having less than 10 appearances. This shows us that we have to be able to predict whether someone will click on an ad not just based on the past data of that specific ad, but also by linking it to other adverts.\n",
    "\n",
    "I think this is the underlying challenge that Outbrain has for us.\n",
    "\n",
    "Before we move on, let's check how many ads in the test set are not in the training set."
   ]
  },
  {
   "cell_type": "code",
   "execution_count": 5,
   "metadata": {
    "_cell_guid": "17cd4e14-8553-f482-627f-38d23a928cc8",
    "collapsed": false
   },
   "outputs": [
    {
     "name": "stdout",
     "output_type": "stream",
     "text": [
      "Proportion of test ads in test that are in training: 82.87%\n"
     ]
    }
   ],
   "source": [
    "ad_prop = len(set(df_test.ad_id.unique()).intersection(df_train.ad_id.unique())) / len(df_test.ad_id.unique())\n",
    "print('Proportion of test ads in test that are in training: {}%'.format(round(ad_prop * 100, 2)))"
   ]
  },
  {
   "cell_type": "markdown",
   "metadata": {
    "_cell_guid": "170da032-c536-3860-0c6d-7c6017427801"
   },
   "source": [
    "This number is a little more reasonable, with 88% of ads appearing in both sets.\n",
    "\n",
    "## Events\n",
    "\n",
    "Let's move on to the events file. I'm not going to cover the [timestamp](https://www.kaggle.com/joconnor/outbrain-click-prediction/date-exploration-and-train-test-split) or the [location](https://www.kaggle.com/andreyg/outbrain-click-prediction/explore-user-base-by-geo), since these have already been beautifully explored - you can click the links to view those EDAs."
   ]
  },
  {
   "cell_type": "code",
   "execution_count": 6,
   "metadata": {
    "_cell_guid": "d04c8b83-1cbd-7056-f87c-bfdc58f26448",
    "collapsed": false
   },
   "outputs": [
    {
     "name": "stderr",
     "output_type": "stream",
     "text": [
      "/opt/conda/lib/python3.5/site-packages/IPython/core/interactiveshell.py:2723: DtypeWarning: Columns (4) have mixed types. Specify dtype option on import or set low_memory=False.\n",
      "  interactivity=interactivity, compiler=compiler, result=result)\n"
     ]
    },
    {
     "name": "stdout",
     "output_type": "stream",
     "text": [
      "Shape: (23120126, 6)\n",
      "Columns ['display_id', 'uuid', 'document_id', 'timestamp', 'platform', 'geo_location']\n"
     ]
    },
    {
     "data": {
      "text/html": [
       "<div>\n",
       "<table border=\"1\" class=\"dataframe\">\n",
       "  <thead>\n",
       "    <tr style=\"text-align: right;\">\n",
       "      <th></th>\n",
       "      <th>display_id</th>\n",
       "      <th>uuid</th>\n",
       "      <th>document_id</th>\n",
       "      <th>timestamp</th>\n",
       "      <th>platform</th>\n",
       "      <th>geo_location</th>\n",
       "    </tr>\n",
       "  </thead>\n",
       "  <tbody>\n",
       "    <tr>\n",
       "      <th>0</th>\n",
       "      <td>1</td>\n",
       "      <td>cb8c55702adb93</td>\n",
       "      <td>379743</td>\n",
       "      <td>61</td>\n",
       "      <td>3</td>\n",
       "      <td>US&gt;SC&gt;519</td>\n",
       "    </tr>\n",
       "    <tr>\n",
       "      <th>1</th>\n",
       "      <td>2</td>\n",
       "      <td>79a85fa78311b9</td>\n",
       "      <td>1794259</td>\n",
       "      <td>81</td>\n",
       "      <td>2</td>\n",
       "      <td>US&gt;CA&gt;807</td>\n",
       "    </tr>\n",
       "    <tr>\n",
       "      <th>2</th>\n",
       "      <td>3</td>\n",
       "      <td>822932ce3d8757</td>\n",
       "      <td>1179111</td>\n",
       "      <td>182</td>\n",
       "      <td>2</td>\n",
       "      <td>US&gt;MI&gt;505</td>\n",
       "    </tr>\n",
       "    <tr>\n",
       "      <th>3</th>\n",
       "      <td>4</td>\n",
       "      <td>85281d0a49f7ac</td>\n",
       "      <td>1777797</td>\n",
       "      <td>234</td>\n",
       "      <td>2</td>\n",
       "      <td>US&gt;WV&gt;564</td>\n",
       "    </tr>\n",
       "    <tr>\n",
       "      <th>4</th>\n",
       "      <td>5</td>\n",
       "      <td>8d0daef4bf5b56</td>\n",
       "      <td>252458</td>\n",
       "      <td>338</td>\n",
       "      <td>2</td>\n",
       "      <td>SG&gt;00</td>\n",
       "    </tr>\n",
       "  </tbody>\n",
       "</table>\n",
       "</div>"
      ],
      "text/plain": [
       "   display_id            uuid  document_id  timestamp platform geo_location\n",
       "0           1  cb8c55702adb93       379743         61        3    US>SC>519\n",
       "1           2  79a85fa78311b9      1794259         81        2    US>CA>807\n",
       "2           3  822932ce3d8757      1179111        182        2    US>MI>505\n",
       "3           4  85281d0a49f7ac      1777797        234        2    US>WV>564\n",
       "4           5  8d0daef4bf5b56       252458        338        2        SG>00"
      ]
     },
     "execution_count": 6,
     "metadata": {},
     "output_type": "execute_result"
    }
   ],
   "source": [
    "try:del df_train,df_test # Being nice to Azure\n",
    "except:pass;gc.collect()\n",
    "\n",
    "events = pd.read_csv('../input/events.csv')\n",
    "print('Shape:', events.shape)\n",
    "print('Columns', events.columns.tolist())\n",
    "events.head()"
   ]
  },
  {
   "cell_type": "code",
   "execution_count": 7,
   "metadata": {
    "_cell_guid": "dad492be-4d95-122f-b418-d99d07ae7a7b",
    "collapsed": false
   },
   "outputs": [
    {
     "name": "stdout",
     "output_type": "stream",
     "text": [
      "2     10684579\n",
      "1      8747280\n",
      "3      3032907\n",
      "2       291699\n",
      "1       279988\n",
      "3        83668\n",
      "\\N           5\n",
      "Name: platform, dtype: int64\n",
      "\n",
      "Unique values of platform: [3 2 1 '2' '1' '3' '\\\\N']\n"
     ]
    }
   ],
   "source": [
    "plat = events.platform.value_counts()\n",
    "\n",
    "print(plat)\n",
    "print('\\nUnique values of platform:', events.platform.unique())"
   ]
  },
  {
   "cell_type": "markdown",
   "metadata": {
    "_cell_guid": "63cd32b2-f4ab-75ae-d786-b61547af06aa"
   },
   "source": [
    "This is very interesting, notice how 1, 2 and 3 are repeated twice in the platform, once as floats, and once as strings.\n",
    "\n",
    "This might become useful in the future (leak? :P) - but for now, I'm just going to treat them as the same thing."
   ]
  },
  {
   "cell_type": "code",
   "execution_count": 8,
   "metadata": {
    "_cell_guid": "abf57bbc-bed4-5652-5606-fca1e6f25fa5",
    "collapsed": false
   },
   "outputs": [
    {
     "data": {
      "text/plain": [
       "<matplotlib.text.Text at 0x7fc0624104e0>"
      ]
     },
     "execution_count": 8,
     "metadata": {},
     "output_type": "execute_result"
    },
    {
     "data": {
      "image/png": "[encoded data removed]",
      "text/plain": [
       "<matplotlib.figure.Figure at 0x7fc14a779940>"
      ]
     },
     "metadata": {},
     "output_type": "display_data"
    }
   ],
   "source": [
    "events.platform = events.platform.astype(str)\n",
    "plat = events.platform.value_counts()\n",
    "\n",
    "plt.figure(figsize=(12,4))\n",
    "sns.barplot(plat.index, plat.values, alpha=0.8, color=p[2])\n",
    "plt.xlabel('Platform', fontsize=12)\n",
    "plt.ylabel('Occurence count', fontsize=12)"
   ]
  },
  {
   "cell_type": "markdown",
   "metadata": {
    "_cell_guid": "ad44eef5-f813-8b54-ea7c-49fc4c551467"
   },
   "source": [
    "It's still unclear what the platform means, but it's possible that it's things like computers, phones, tablets etc. \n",
    "\n",
    "The `\\\\N`s and string numbers may have come from the way that a file was parsed while creating the dataset, but it's still a mystery. If anyone has any other ideas, I'd love to hear them!\n",
    "\n",
    "Let's do some quick analysis on the UUID next."
   ]
  },
  {
   "cell_type": "code",
   "execution_count": 9,
   "metadata": {
    "_cell_guid": "8bc2b579-b44d-8f90-9359-f63b1de00fbc",
    "collapsed": false
   },
   "outputs": [
    {
     "name": "stdout",
     "output_type": "stream",
     "text": [
      "uuid\n",
      "ef7761dd22277c    38\n",
      "45d23867dbe3b3    38\n",
      "c0bd502c7a479f    42\n",
      "2759b057797f02    46\n",
      "b88553e3a2aa29    49\n",
      "Name: uuid, dtype: int64\n",
      "Users that appear less than 2 times: 88.42%\n",
      "Users that appear less than 5 times: 99.51%\n",
      "Users that appear less than 10 times: 99.96%\n"
     ]
    },
    {
     "data": {
      "image/png": "[encoded data removed]",
      "text/plain": [
       "<matplotlib.figure.Figure at 0x7fc06240bc18>"
      ]
     },
     "metadata": {},
     "output_type": "display_data"
    }
   ],
   "source": [
    "uuid_counts = events.groupby('uuid')['uuid'].count().sort_values()\n",
    "\n",
    "print(uuid_counts.tail())\n",
    "\n",
    "for i in [2, 5, 10]:\n",
    "    print('Users that appear less than {} times: {}%'.format(i, round((uuid_counts < i).mean() * 100, 2)))\n",
    "    \n",
    "plt.figure(figsize=(12, 4))\n",
    "plt.hist(uuid_counts.values, bins=50, log=True)\n",
    "plt.xlabel('Number of times user appeared in set', fontsize=12)\n",
    "plt.ylabel('log(Count of users)', fontsize=12)\n",
    "plt.show()"
   ]
  },
  {
   "cell_type": "markdown",
   "metadata": {
    "_cell_guid": "30681980-a433-1fa2-2e12-acaa8e18bc3f"
   },
   "source": [
    "Here we see a distribution much like the ad ids, with 88% of users being unique - there will be little scope of building user-based recommendation profiles here.\n",
    "\n",
    "I'd love to look at things like whether the same user ever clicks on the same ad twice, or whether a user transverses the training & testing set, but we're limited by the Kernels memory limit here :(\n",
    "\n",
    "## Categories\n",
    "\n",
    "Outbrain has some content classification algorithms, and they have provided us with the output from these classifications. Let's take a look at some of the most popular classifications."
   ]
  },
  {
   "cell_type": "code",
   "execution_count": 10,
   "metadata": {
    "_cell_guid": "25d20056-2311-cc15-9a2f-4f82e9189a14",
    "collapsed": false
   },
   "outputs": [
    {
     "name": "stdout",
     "output_type": "stream",
     "text": [
      "Columns: ['document_id', 'topic_id', 'confidence_level']\n",
      "Number of unique topics: 300\n"
     ]
    },
    {
     "data": {
      "text/html": [
       "<div>\n",
       "<table border=\"1\" class=\"dataframe\">\n",
       "  <thead>\n",
       "    <tr style=\"text-align: right;\">\n",
       "      <th></th>\n",
       "      <th>document_id</th>\n",
       "      <th>topic_id</th>\n",
       "      <th>confidence_level</th>\n",
       "    </tr>\n",
       "  </thead>\n",
       "  <tbody>\n",
       "    <tr>\n",
       "      <th>0</th>\n",
       "      <td>1595802</td>\n",
       "      <td>140</td>\n",
       "      <td>0.073113</td>\n",
       "    </tr>\n",
       "    <tr>\n",
       "      <th>1</th>\n",
       "      <td>1595802</td>\n",
       "      <td>16</td>\n",
       "      <td>0.059416</td>\n",
       "    </tr>\n",
       "    <tr>\n",
       "      <th>2</th>\n",
       "      <td>1595802</td>\n",
       "      <td>143</td>\n",
       "      <td>0.045421</td>\n",
       "    </tr>\n",
       "    <tr>\n",
       "      <th>3</th>\n",
       "      <td>1595802</td>\n",
       "      <td>170</td>\n",
       "      <td>0.038867</td>\n",
       "    </tr>\n",
       "    <tr>\n",
       "      <th>4</th>\n",
       "      <td>1524246</td>\n",
       "      <td>113</td>\n",
       "      <td>0.196450</td>\n",
       "    </tr>\n",
       "  </tbody>\n",
       "</table>\n",
       "</div>"
      ],
      "text/plain": [
       "   document_id  topic_id  confidence_level\n",
       "0      1595802       140          0.073113\n",
       "1      1595802        16          0.059416\n",
       "2      1595802       143          0.045421\n",
       "3      1595802       170          0.038867\n",
       "4      1524246       113          0.196450"
      ]
     },
     "execution_count": 10,
     "metadata": {},
     "output_type": "execute_result"
    }
   ],
   "source": [
    "try:del events\n",
    "except:pass;gc.collect()\n",
    "\n",
    "topics = pd.read_csv('../input/documents_topics.csv')\n",
    "print('Columns:',topics.columns.tolist())\n",
    "print('Number of unique topics:', len(topics.topic_id.unique()))\n",
    "\n",
    "topics.head()"
   ]
  },
  {
   "cell_type": "code",
   "execution_count": 11,
   "metadata": {
    "_cell_guid": "0e598b3d-a93d-8b4c-5867-ffaf4b8d3fe2",
    "collapsed": false
   },
   "outputs": [
    {
     "name": "stdout",
     "output_type": "stream",
     "text": [
      "Number of topics that appear more than 10000 times: 201\n",
      "Number of topics that appear more than 50000 times: 86\n",
      "Number of topics that appear more than 100000 times: 22\n",
      "Number of topics that appear more than 200000 times: 3\n"
     ]
    },
    {
     "data": {
      "image/png": "[encoded data removed]",
      "text/plain": [
       "<matplotlib.figure.Figure at 0x7fc153b70978>"
      ]
     },
     "metadata": {},
     "output_type": "display_data"
    }
   ],
   "source": [
    "topic_ids = topics.groupby('topic_id')['confidence_level'].count().sort_values()\n",
    "\n",
    "for i in [10000, 50000, 100000, 200000]:\n",
    "    print('Number of topics that appear more than {} times: {}'\n",
    "          .format(i, (topic_ids > i).sum()))\n",
    "\n",
    "plt.figure(figsize=(12, 4))\n",
    "sns.barplot(topic_ids.index, topic_ids.values, order=topic_ids.index, alpha=1, color=p[5])\n",
    "plt.xlabel('Document Topics', fontsize=12)\n",
    "plt.ylabel('Total occurences', fontsize=12)\n",
    "plt.show()"
   ]
  },
  {
   "cell_type": "code",
   "execution_count": 12,
   "metadata": {
    "_cell_guid": "7a03ce36-4e3b-63c1-eeb2-b5927c8aeb6a",
    "collapsed": false
   },
   "outputs": [
    {
     "name": "stdout",
     "output_type": "stream",
     "text": [
      "Columns: ['document_id', 'category_id', 'confidence_level']\n",
      "Number of unique categories: 97\n",
      "Number of categories that appear more than 1000 times: 88\n",
      "Number of categories that appear more than 10000 times: 65\n",
      "Number of categories that appear more than 50000 times: 35\n",
      "Number of categories that appear more than 100000 times: 15\n"
     ]
    },
    {
     "data": {
      "image/png": "[encoded data removed]",
      "text/plain": [
       "<matplotlib.figure.Figure at 0x7fc1537cde10>"
      ]
     },
     "metadata": {},
     "output_type": "display_data"
    }
   ],
   "source": [
    "cat = pd.read_csv('../input/documents_categories.csv')\n",
    "print('Columns:', cat.columns.tolist())\n",
    "print('Number of unique categories:', len(cat.category_id.unique()))\n",
    "\n",
    "cat_ids = cat.groupby('category_id')['confidence_level'].count().sort_values()\n",
    "\n",
    "for i in [1000, 10000, 50000, 100000]:\n",
    "    print('Number of categories that appear more than {} times: {}'\n",
    "          .format(i, (cat_ids > i).sum()))\n",
    "\n",
    "plt.figure(figsize=(12, 4))\n",
    "sns.barplot(cat_ids.index, cat_ids.values, order=cat_ids.index, alpha=1, color=p[3])\n",
    "plt.xlabel('Document Categories', fontsize=12)\n",
    "plt.ylabel('Total occurences', fontsize=12)\n",
    "plt.show()"
   ]
  },
  {
   "cell_type": "markdown",
   "metadata": {
    "_cell_guid": "02811160-6bb2-596b-49a5-f27cb1c77dc7"
   },
   "source": [
    "That's it for today, folks!\n",
    "\n",
    "Hopefully this helps you think of some ideas - I'll continue updating this as I do more exploration over the next few days.\n",
    "\n",
    "Once again, please upvote if this was useful :P"
   ]
  }
 ],
 "metadata": {
  "_change_revision": 18,
  "_is_fork": false,
  "kernelspec": {
   "display_name": "Python [default]",
   "language": "python",
   "name": "python3"
  },
  "language_info": {
   "codemirror_mode": {
    "name": "ipython",
    "version": 3
   },
   "file_extension": ".py",
   "mimetype": "text/x-python",
   "name": "python",
   "nbconvert_exporter": "python",
   "pygments_lexer": "ipython3",
   "version": "3.5.2"
  }
 },
 "nbformat": 4,
 "nbformat_minor": 0
}
